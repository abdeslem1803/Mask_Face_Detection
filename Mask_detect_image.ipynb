{
 "cells": [
  {
   "cell_type": "code",
   "execution_count": 41,
   "metadata": {},
   "outputs": [],
   "source": [
    "from MyFunctions import detect_Mask_from_faces\n",
    "from tensorflow.keras.models import load_model\n",
    "import imutils\n",
    "import cv2"
   ]
  },
  {
   "cell_type": "markdown",
   "metadata": {},
   "source": [
    "# loading face detector model"
   ]
  },
  {
   "cell_type": "code",
   "execution_count": 42,
   "metadata": {},
   "outputs": [],
   "source": [
    "deployPrototxt = \"deploy.prototxt\"\n",
    "deployPrototxt_weight = \"res10_300x300_ssd_iter_140000.caffemodel\"\n",
    "face_detection_model = cv2.dnn.readNet(deployPrototxt,deployPrototxt_weight)"
   ]
  },
  {
   "cell_type": "markdown",
   "metadata": {},
   "source": [
    "# load face mask detector "
   ]
  },
  {
   "cell_type": "code",
   "execution_count": 43,
   "metadata": {},
   "outputs": [],
   "source": [
    "mask_detection_model = load_model(\"new_mobilenet.model\")"
   ]
  },
  {
   "cell_type": "code",
   "execution_count": 44,
   "metadata": {},
   "outputs": [],
   "source": [
    "frame = cv2.imread(\"example_03.png\")\n",
    "image = frame.copy()"
   ]
  },
  {
   "cell_type": "code",
   "execution_count": 45,
   "metadata": {},
   "outputs": [],
   "source": [
    "try:\n",
    "    #detect faces in the frame and preict if they are waring masks or not\n",
    "    #extract coordination of faces\n",
    "    (coordination,mask_face_detection)=detect_Mask_from_faces(image,face_detection_model,mask_detection_model)\n",
    "    #loop over the detected face and their corrosponding coordinations\n",
    "    for (box,prediction) in zip(coordination,mask_face_detection):\n",
    "        (start_x,start_y,end_x,end_y)=box\n",
    "        (mask,withoutMask)=prediction\n",
    "            \n",
    "        #determine the class label and color we will use to draw the bounding box and text\n",
    "        label='Mask' if mask>withoutMask else 'No Mask'\n",
    "        color=(0,255,0) if label=='Mask' else (0,0,255)\n",
    "            \n",
    "        #display the label and bounding boxes\n",
    "        cv2.putText(image,label,(start_x,start_y-10),cv2.FONT_HERSHEY_SIMPLEX,0.45,color,2)\n",
    "        cv2.rectangle(image,(start_x,start_y),(end_x,end_y),color,2)\n",
    "\n",
    "except:\n",
    "    pass\n",
    "        \n",
    "cv2.imshow(\"OutPut\",image)\n",
    "cv2.waitKey(0)\n",
    "cv2.destroyAllWindows()\n",
    "#use this line in case of a loop\n",
    "#image = frame.copy()"
   ]
  },
  {
   "cell_type": "code",
   "execution_count": null,
   "metadata": {},
   "outputs": [],
   "source": []
  }
 ],
 "metadata": {
  "kernelspec": {
   "display_name": "Python 3",
   "language": "python",
   "name": "python3"
  },
  "language_info": {
   "codemirror_mode": {
    "name": "ipython",
    "version": 3
   },
   "file_extension": ".py",
   "mimetype": "text/x-python",
   "name": "python",
   "nbconvert_exporter": "python",
   "pygments_lexer": "ipython3",
   "version": "3.7.6"
  }
 },
 "nbformat": 4,
 "nbformat_minor": 4
}
